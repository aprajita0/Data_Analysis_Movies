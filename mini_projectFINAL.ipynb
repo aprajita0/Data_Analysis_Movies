{
 "cells": [
  {
   "attachments": {},
   "cell_type": "markdown",
   "metadata": {},
   "source": [
    "Data Analysis of the Movies and Ratings Dataset"
   ]
  },
  {
   "attachments": {},
   "cell_type": "markdown",
   "metadata": {},
   "source": [
    "Task 1: Data Collection (Downloading the CSV files and Importing the Libraries)"
   ]
  },
  {
   "cell_type": "code",
   "execution_count": 1,
   "metadata": {},
   "outputs": [],
   "source": [
    "import pandas as pd  # Most of the functions we use need the pandas library\n",
    "import numpy as np"
   ]
  },
  {
   "attachments": {},
   "cell_type": "markdown",
   "metadata": {},
   "source": [
    "Task 2: Data Preprocessing (Loading and Cleaning the dataset using pandas)"
   ]
  },
  {
   "cell_type": "code",
   "execution_count": 2,
   "metadata": {},
   "outputs": [
    {
     "data": {
      "text/html": [
       "<div>\n",
       "<style scoped>\n",
       "    .dataframe tbody tr th:only-of-type {\n",
       "        vertical-align: middle;\n",
       "    }\n",
       "\n",
       "    .dataframe tbody tr th {\n",
       "        vertical-align: top;\n",
       "    }\n",
       "\n",
       "    .dataframe thead th {\n",
       "        text-align: right;\n",
       "    }\n",
       "</style>\n",
       "<table border=\"1\" class=\"dataframe\">\n",
       "  <thead>\n",
       "    <tr style=\"text-align: right;\">\n",
       "      <th></th>\n",
       "      <th>userId</th>\n",
       "      <th>movieId</th>\n",
       "      <th>rating</th>\n",
       "      <th>timestamp</th>\n",
       "    </tr>\n",
       "  </thead>\n",
       "  <tbody>\n",
       "    <tr>\n",
       "      <th>0</th>\n",
       "      <td>1</td>\n",
       "      <td>307</td>\n",
       "      <td>3.5</td>\n",
       "      <td>1256677221</td>\n",
       "    </tr>\n",
       "    <tr>\n",
       "      <th>1</th>\n",
       "      <td>1</td>\n",
       "      <td>481</td>\n",
       "      <td>3.5</td>\n",
       "      <td>1256677456</td>\n",
       "    </tr>\n",
       "    <tr>\n",
       "      <th>2</th>\n",
       "      <td>1</td>\n",
       "      <td>1091</td>\n",
       "      <td>1.5</td>\n",
       "      <td>1256677471</td>\n",
       "    </tr>\n",
       "    <tr>\n",
       "      <th>3</th>\n",
       "      <td>1</td>\n",
       "      <td>1257</td>\n",
       "      <td>4.5</td>\n",
       "      <td>1256677460</td>\n",
       "    </tr>\n",
       "    <tr>\n",
       "      <th>4</th>\n",
       "      <td>1</td>\n",
       "      <td>1449</td>\n",
       "      <td>4.5</td>\n",
       "      <td>1256677264</td>\n",
       "    </tr>\n",
       "    <tr>\n",
       "      <th>...</th>\n",
       "      <td>...</td>\n",
       "      <td>...</td>\n",
       "      <td>...</td>\n",
       "      <td>...</td>\n",
       "    </tr>\n",
       "    <tr>\n",
       "      <th>27753439</th>\n",
       "      <td>283228</td>\n",
       "      <td>8542</td>\n",
       "      <td>4.5</td>\n",
       "      <td>1379882795</td>\n",
       "    </tr>\n",
       "    <tr>\n",
       "      <th>27753440</th>\n",
       "      <td>283228</td>\n",
       "      <td>8712</td>\n",
       "      <td>4.5</td>\n",
       "      <td>1379882751</td>\n",
       "    </tr>\n",
       "    <tr>\n",
       "      <th>27753441</th>\n",
       "      <td>283228</td>\n",
       "      <td>34405</td>\n",
       "      <td>4.5</td>\n",
       "      <td>1379882889</td>\n",
       "    </tr>\n",
       "    <tr>\n",
       "      <th>27753442</th>\n",
       "      <td>283228</td>\n",
       "      <td>44761</td>\n",
       "      <td>4.5</td>\n",
       "      <td>1354159524</td>\n",
       "    </tr>\n",
       "    <tr>\n",
       "      <th>27753443</th>\n",
       "      <td>283228</td>\n",
       "      <td>54286</td>\n",
       "      <td>4.5</td>\n",
       "      <td>1354159718</td>\n",
       "    </tr>\n",
       "  </tbody>\n",
       "</table>\n",
       "<p>27753444 rows × 4 columns</p>\n",
       "</div>"
      ],
      "text/plain": [
       "          userId  movieId  rating   timestamp\n",
       "0              1      307     3.5  1256677221\n",
       "1              1      481     3.5  1256677456\n",
       "2              1     1091     1.5  1256677471\n",
       "3              1     1257     4.5  1256677460\n",
       "4              1     1449     4.5  1256677264\n",
       "...          ...      ...     ...         ...\n",
       "27753439  283228     8542     4.5  1379882795\n",
       "27753440  283228     8712     4.5  1379882751\n",
       "27753441  283228    34405     4.5  1379882889\n",
       "27753442  283228    44761     4.5  1354159524\n",
       "27753443  283228    54286     4.5  1354159718\n",
       "\n",
       "[27753444 rows x 4 columns]"
      ]
     },
     "execution_count": 2,
     "metadata": {},
     "output_type": "execute_result"
    }
   ],
   "source": [
    "'''Loading the Dataset in Python Using Pandas'''\n",
    "movies = pd.read_csv('movies.csv') # Loads the movie dataset\n",
    "(movies)\n",
    "ratings = pd.read_csv('ratings.csv')\n",
    "(ratings)"
   ]
  },
  {
   "attachments": {},
   "cell_type": "markdown",
   "metadata": {},
   "source": [
    "Cleaning the Dataset by removing the Null and Duplicates "
   ]
  },
  {
   "cell_type": "code",
   "execution_count": 3,
   "metadata": {},
   "outputs": [
    {
     "data": {
      "text/html": [
       "<div>\n",
       "<style scoped>\n",
       "    .dataframe tbody tr th:only-of-type {\n",
       "        vertical-align: middle;\n",
       "    }\n",
       "\n",
       "    .dataframe tbody tr th {\n",
       "        vertical-align: top;\n",
       "    }\n",
       "\n",
       "    .dataframe thead th {\n",
       "        text-align: right;\n",
       "    }\n",
       "</style>\n",
       "<table border=\"1\" class=\"dataframe\">\n",
       "  <thead>\n",
       "    <tr style=\"text-align: right;\">\n",
       "      <th></th>\n",
       "      <th>movieId</th>\n",
       "      <th>title</th>\n",
       "      <th>genres</th>\n",
       "      <th>userId</th>\n",
       "      <th>rating</th>\n",
       "      <th>timestamp</th>\n",
       "    </tr>\n",
       "  </thead>\n",
       "  <tbody>\n",
       "    <tr>\n",
       "      <th>0</th>\n",
       "      <td>1</td>\n",
       "      <td>Toy Story (1995)</td>\n",
       "      <td>Adventure|Animation|Children|Comedy|Fantasy</td>\n",
       "      <td>4.0</td>\n",
       "      <td>4.0</td>\n",
       "      <td>1.113766e+09</td>\n",
       "    </tr>\n",
       "    <tr>\n",
       "      <th>1</th>\n",
       "      <td>1</td>\n",
       "      <td>Toy Story (1995)</td>\n",
       "      <td>Adventure|Animation|Children|Comedy|Fantasy</td>\n",
       "      <td>10.0</td>\n",
       "      <td>5.0</td>\n",
       "      <td>9.488858e+08</td>\n",
       "    </tr>\n",
       "    <tr>\n",
       "      <th>2</th>\n",
       "      <td>1</td>\n",
       "      <td>Toy Story (1995)</td>\n",
       "      <td>Adventure|Animation|Children|Comedy|Fantasy</td>\n",
       "      <td>14.0</td>\n",
       "      <td>4.5</td>\n",
       "      <td>1.442169e+09</td>\n",
       "    </tr>\n",
       "    <tr>\n",
       "      <th>3</th>\n",
       "      <td>1</td>\n",
       "      <td>Toy Story (1995)</td>\n",
       "      <td>Adventure|Animation|Children|Comedy|Fantasy</td>\n",
       "      <td>15.0</td>\n",
       "      <td>4.0</td>\n",
       "      <td>1.370810e+09</td>\n",
       "    </tr>\n",
       "    <tr>\n",
       "      <th>4</th>\n",
       "      <td>1</td>\n",
       "      <td>Toy Story (1995)</td>\n",
       "      <td>Adventure|Animation|Children|Comedy|Fantasy</td>\n",
       "      <td>22.0</td>\n",
       "      <td>4.0</td>\n",
       "      <td>1.237623e+09</td>\n",
       "    </tr>\n",
       "    <tr>\n",
       "      <th>...</th>\n",
       "      <td>...</td>\n",
       "      <td>...</td>\n",
       "      <td>...</td>\n",
       "      <td>...</td>\n",
       "      <td>...</td>\n",
       "      <td>...</td>\n",
       "    </tr>\n",
       "    <tr>\n",
       "      <th>27757648</th>\n",
       "      <td>193878</td>\n",
       "      <td>Les tribulations d'une caissière (2011)</td>\n",
       "      <td>Comedy</td>\n",
       "      <td>176871.0</td>\n",
       "      <td>2.0</td>\n",
       "      <td>1.537875e+09</td>\n",
       "    </tr>\n",
       "    <tr>\n",
       "      <th>27757649</th>\n",
       "      <td>193880</td>\n",
       "      <td>Her Name Was Mumu (2016)</td>\n",
       "      <td>Drama</td>\n",
       "      <td>81710.0</td>\n",
       "      <td>2.0</td>\n",
       "      <td>1.537886e+09</td>\n",
       "    </tr>\n",
       "    <tr>\n",
       "      <th>27757650</th>\n",
       "      <td>193882</td>\n",
       "      <td>Flora (2017)</td>\n",
       "      <td>Adventure|Drama|Horror|Sci-Fi</td>\n",
       "      <td>33330.0</td>\n",
       "      <td>2.0</td>\n",
       "      <td>1.537891e+09</td>\n",
       "    </tr>\n",
       "    <tr>\n",
       "      <th>27757651</th>\n",
       "      <td>193886</td>\n",
       "      <td>Leal (2018)</td>\n",
       "      <td>Action|Crime|Drama</td>\n",
       "      <td>206009.0</td>\n",
       "      <td>2.5</td>\n",
       "      <td>1.537918e+09</td>\n",
       "    </tr>\n",
       "    <tr>\n",
       "      <th>27757652</th>\n",
       "      <td>193886</td>\n",
       "      <td>Leal (2018)</td>\n",
       "      <td>Action|Crime|Drama</td>\n",
       "      <td>226715.0</td>\n",
       "      <td>4.0</td>\n",
       "      <td>1.537916e+09</td>\n",
       "    </tr>\n",
       "  </tbody>\n",
       "</table>\n",
       "<p>27757653 rows × 6 columns</p>\n",
       "</div>"
      ],
      "text/plain": [
       "          movieId                                    title  \\\n",
       "0               1                         Toy Story (1995)   \n",
       "1               1                         Toy Story (1995)   \n",
       "2               1                         Toy Story (1995)   \n",
       "3               1                         Toy Story (1995)   \n",
       "4               1                         Toy Story (1995)   \n",
       "...           ...                                      ...   \n",
       "27757648   193878  Les tribulations d'une caissière (2011)   \n",
       "27757649   193880                 Her Name Was Mumu (2016)   \n",
       "27757650   193882                             Flora (2017)   \n",
       "27757651   193886                              Leal (2018)   \n",
       "27757652   193886                              Leal (2018)   \n",
       "\n",
       "                                               genres    userId  rating  \\\n",
       "0         Adventure|Animation|Children|Comedy|Fantasy       4.0     4.0   \n",
       "1         Adventure|Animation|Children|Comedy|Fantasy      10.0     5.0   \n",
       "2         Adventure|Animation|Children|Comedy|Fantasy      14.0     4.5   \n",
       "3         Adventure|Animation|Children|Comedy|Fantasy      15.0     4.0   \n",
       "4         Adventure|Animation|Children|Comedy|Fantasy      22.0     4.0   \n",
       "...                                               ...       ...     ...   \n",
       "27757648                                       Comedy  176871.0     2.0   \n",
       "27757649                                        Drama   81710.0     2.0   \n",
       "27757650                Adventure|Drama|Horror|Sci-Fi   33330.0     2.0   \n",
       "27757651                           Action|Crime|Drama  206009.0     2.5   \n",
       "27757652                           Action|Crime|Drama  226715.0     4.0   \n",
       "\n",
       "             timestamp  \n",
       "0         1.113766e+09  \n",
       "1         9.488858e+08  \n",
       "2         1.442169e+09  \n",
       "3         1.370810e+09  \n",
       "4         1.237623e+09  \n",
       "...                ...  \n",
       "27757648  1.537875e+09  \n",
       "27757649  1.537886e+09  \n",
       "27757650  1.537891e+09  \n",
       "27757651  1.537918e+09  \n",
       "27757652  1.537916e+09  \n",
       "\n",
       "[27757653 rows x 6 columns]"
      ]
     },
     "execution_count": 3,
     "metadata": {},
     "output_type": "execute_result"
    }
   ],
   "source": [
    "# contain only the rows where there are matching values in both the movies and ratings \n",
    "movies_merged = movies.merge(ratings, how='outer') \n",
    "movies_merged"
   ]
  },
  {
   "cell_type": "code",
   "execution_count": 4,
   "metadata": {},
   "outputs": [
    {
     "data": {
      "text/html": [
       "<div>\n",
       "<style scoped>\n",
       "    .dataframe tbody tr th:only-of-type {\n",
       "        vertical-align: middle;\n",
       "    }\n",
       "\n",
       "    .dataframe tbody tr th {\n",
       "        vertical-align: top;\n",
       "    }\n",
       "\n",
       "    .dataframe thead th {\n",
       "        text-align: right;\n",
       "    }\n",
       "</style>\n",
       "<table border=\"1\" class=\"dataframe\">\n",
       "  <thead>\n",
       "    <tr style=\"text-align: right;\">\n",
       "      <th></th>\n",
       "      <th>movieId</th>\n",
       "      <th>title</th>\n",
       "      <th>genres</th>\n",
       "      <th>userId</th>\n",
       "      <th>rating</th>\n",
       "      <th>timestamp</th>\n",
       "    </tr>\n",
       "  </thead>\n",
       "  <tbody>\n",
       "    <tr>\n",
       "      <th>0</th>\n",
       "      <td>1</td>\n",
       "      <td>Toy Story (1995)</td>\n",
       "      <td>Adventure|Animation|Children|Comedy|Fantasy</td>\n",
       "      <td>4.0</td>\n",
       "      <td>4.0</td>\n",
       "      <td>1.113766e+09</td>\n",
       "    </tr>\n",
       "    <tr>\n",
       "      <th>1</th>\n",
       "      <td>1</td>\n",
       "      <td>Toy Story (1995)</td>\n",
       "      <td>Adventure|Animation|Children|Comedy|Fantasy</td>\n",
       "      <td>10.0</td>\n",
       "      <td>5.0</td>\n",
       "      <td>9.488858e+08</td>\n",
       "    </tr>\n",
       "    <tr>\n",
       "      <th>2</th>\n",
       "      <td>1</td>\n",
       "      <td>Toy Story (1995)</td>\n",
       "      <td>Adventure|Animation|Children|Comedy|Fantasy</td>\n",
       "      <td>14.0</td>\n",
       "      <td>4.5</td>\n",
       "      <td>1.442169e+09</td>\n",
       "    </tr>\n",
       "    <tr>\n",
       "      <th>3</th>\n",
       "      <td>1</td>\n",
       "      <td>Toy Story (1995)</td>\n",
       "      <td>Adventure|Animation|Children|Comedy|Fantasy</td>\n",
       "      <td>15.0</td>\n",
       "      <td>4.0</td>\n",
       "      <td>1.370810e+09</td>\n",
       "    </tr>\n",
       "    <tr>\n",
       "      <th>4</th>\n",
       "      <td>1</td>\n",
       "      <td>Toy Story (1995)</td>\n",
       "      <td>Adventure|Animation|Children|Comedy|Fantasy</td>\n",
       "      <td>22.0</td>\n",
       "      <td>4.0</td>\n",
       "      <td>1.237623e+09</td>\n",
       "    </tr>\n",
       "    <tr>\n",
       "      <th>...</th>\n",
       "      <td>...</td>\n",
       "      <td>...</td>\n",
       "      <td>...</td>\n",
       "      <td>...</td>\n",
       "      <td>...</td>\n",
       "      <td>...</td>\n",
       "    </tr>\n",
       "    <tr>\n",
       "      <th>27757648</th>\n",
       "      <td>193878</td>\n",
       "      <td>Les tribulations d'une caissière (2011)</td>\n",
       "      <td>Comedy</td>\n",
       "      <td>176871.0</td>\n",
       "      <td>2.0</td>\n",
       "      <td>1.537875e+09</td>\n",
       "    </tr>\n",
       "    <tr>\n",
       "      <th>27757649</th>\n",
       "      <td>193880</td>\n",
       "      <td>Her Name Was Mumu (2016)</td>\n",
       "      <td>Drama</td>\n",
       "      <td>81710.0</td>\n",
       "      <td>2.0</td>\n",
       "      <td>1.537886e+09</td>\n",
       "    </tr>\n",
       "    <tr>\n",
       "      <th>27757650</th>\n",
       "      <td>193882</td>\n",
       "      <td>Flora (2017)</td>\n",
       "      <td>Adventure|Drama|Horror|Sci-Fi</td>\n",
       "      <td>33330.0</td>\n",
       "      <td>2.0</td>\n",
       "      <td>1.537891e+09</td>\n",
       "    </tr>\n",
       "    <tr>\n",
       "      <th>27757651</th>\n",
       "      <td>193886</td>\n",
       "      <td>Leal (2018)</td>\n",
       "      <td>Action|Crime|Drama</td>\n",
       "      <td>206009.0</td>\n",
       "      <td>2.5</td>\n",
       "      <td>1.537918e+09</td>\n",
       "    </tr>\n",
       "    <tr>\n",
       "      <th>27757652</th>\n",
       "      <td>193886</td>\n",
       "      <td>Leal (2018)</td>\n",
       "      <td>Action|Crime|Drama</td>\n",
       "      <td>226715.0</td>\n",
       "      <td>4.0</td>\n",
       "      <td>1.537916e+09</td>\n",
       "    </tr>\n",
       "  </tbody>\n",
       "</table>\n",
       "<p>27757312 rows × 6 columns</p>\n",
       "</div>"
      ],
      "text/plain": [
       "          movieId                                    title  \\\n",
       "0               1                         Toy Story (1995)   \n",
       "1               1                         Toy Story (1995)   \n",
       "2               1                         Toy Story (1995)   \n",
       "3               1                         Toy Story (1995)   \n",
       "4               1                         Toy Story (1995)   \n",
       "...           ...                                      ...   \n",
       "27757648   193878  Les tribulations d'une caissière (2011)   \n",
       "27757649   193880                 Her Name Was Mumu (2016)   \n",
       "27757650   193882                             Flora (2017)   \n",
       "27757651   193886                              Leal (2018)   \n",
       "27757652   193886                              Leal (2018)   \n",
       "\n",
       "                                               genres    userId  rating  \\\n",
       "0         Adventure|Animation|Children|Comedy|Fantasy       4.0     4.0   \n",
       "1         Adventure|Animation|Children|Comedy|Fantasy      10.0     5.0   \n",
       "2         Adventure|Animation|Children|Comedy|Fantasy      14.0     4.5   \n",
       "3         Adventure|Animation|Children|Comedy|Fantasy      15.0     4.0   \n",
       "4         Adventure|Animation|Children|Comedy|Fantasy      22.0     4.0   \n",
       "...                                               ...       ...     ...   \n",
       "27757648                                       Comedy  176871.0     2.0   \n",
       "27757649                                        Drama   81710.0     2.0   \n",
       "27757650                Adventure|Drama|Horror|Sci-Fi   33330.0     2.0   \n",
       "27757651                           Action|Crime|Drama  206009.0     2.5   \n",
       "27757652                           Action|Crime|Drama  226715.0     4.0   \n",
       "\n",
       "             timestamp  \n",
       "0         1.113766e+09  \n",
       "1         9.488858e+08  \n",
       "2         1.442169e+09  \n",
       "3         1.370810e+09  \n",
       "4         1.237623e+09  \n",
       "...                ...  \n",
       "27757648  1.537875e+09  \n",
       "27757649  1.537886e+09  \n",
       "27757650  1.537891e+09  \n",
       "27757651  1.537918e+09  \n",
       "27757652  1.537916e+09  \n",
       "\n",
       "[27757312 rows x 6 columns]"
      ]
     },
     "execution_count": 4,
     "metadata": {},
     "output_type": "execute_result"
    }
   ],
   "source": [
    "# We can use the drop_duplicates function to get rid of the same value \n",
    "movies_df = movies_merged.drop_duplicates(subset=['title', 'userId', 'rating'])\n",
    "movies_df"
   ]
  },
  {
   "attachments": {},
   "cell_type": "markdown",
   "metadata": {},
   "source": [
    "Task 3: Data Exploration"
   ]
  },
  {
   "attachments": {},
   "cell_type": "markdown",
   "metadata": {},
   "source": [
    "Number of Movies in the Dataset"
   ]
  },
  {
   "cell_type": "code",
   "execution_count": 6,
   "metadata": {},
   "outputs": [
    {
     "name": "stdout",
     "output_type": "stream",
     "text": [
      "The number of movies:\n"
     ]
    },
    {
     "data": {
      "text/plain": [
       "58020"
      ]
     },
     "execution_count": 6,
     "metadata": {},
     "output_type": "execute_result"
    }
   ],
   "source": [
    "# We can use the title and nunique() function to count the number of movies\n",
    "num_movies = movies_df['title'].nunique()\n",
    "print(\"The number of movies:\")\n",
    "num_movies"
   ]
  },
  {
   "attachments": {},
   "cell_type": "markdown",
   "metadata": {},
   "source": [
    "Number of Genres"
   ]
  },
  {
   "cell_type": "code",
   "execution_count": 7,
   "metadata": {},
   "outputs": [
    {
     "name": "stdout",
     "output_type": "stream",
     "text": [
      "{'Action', 'Sci-Fi', 'Children', 'Animation', 'Comedy', 'War', 'Romance', 'Film-Noir', 'IMAX', 'Western', 'Drama', 'Crime', 'Horror', 'Fantasy', 'Documentary', 'Mystery', 'Thriller', 'Musical', 'Adventure'}\n",
      "19\n"
     ]
    }
   ],
   "source": [
    "#In order to find the number of unique genres we need to split the genres column and calculate the no. of genres after\n",
    "unique_genres = set()     #The set unique_genres stores all the values in genres seprately \n",
    "for genre in movies_df['genres']: # Because one movie has multiple genres we need to split the column and add the genres to the list\n",
    "  list_of_genre = genre.split('|')\n",
    "  for genres in list_of_genre:\n",
    "    unique_genres.add(genres)\n",
    "\n",
    "unique_genres.remove('(no genres listed)')  #Since in the dataset there are movies with no genres we need to exclude it\n",
    "len_genre = len(unique_genres)\n",
    "print(unique_genres)\n",
    "print(len_genre)"
   ]
  },
  {
   "attachments": {},
   "cell_type": "markdown",
   "metadata": {},
   "source": [
    "Average Ratings per Movie"
   ]
  },
  {
   "cell_type": "code",
   "execution_count": 8,
   "metadata": {},
   "outputs": [
    {
     "name": "stdout",
     "output_type": "stream",
     "text": [
      "478.40937607721474\n"
     ]
    }
   ],
   "source": [
    "#To get average rating we can calculate the total ratings and divide it by the no. of movies\n",
    "ratings_per_movie = movies_df.groupby('title').size()\n",
    "total_ratings = ratings_per_movie.sum()\n",
    "average_rating_per_movie = total_ratings / num_movies\n",
    "print(average_rating_per_movie)"
   ]
  },
  {
   "attachments": {},
   "cell_type": "markdown",
   "metadata": {},
   "source": [
    "Task 4: Data Analysis"
   ]
  },
  {
   "attachments": {},
   "cell_type": "markdown",
   "metadata": {},
   "source": [
    "Average Rating of Each Movie"
   ]
  },
  {
   "cell_type": "code",
   "execution_count": 9,
   "metadata": {},
   "outputs": [
    {
     "name": "stdout",
     "output_type": "stream",
     "text": [
      "title\n",
      "\"Great Performances\" Cats (1998)          2.815556\n",
      "#1 Cheerleader Camp (2010)                2.777778\n",
      "#Captured (2017)                          2.500000\n",
      "#Horror (2015)                            2.078947\n",
      "#SCREAMERS (2016)                         2.500000\n",
      "                                            ...   \n",
      "…And the Fifth Horseman Is Fear (1965)    3.250000\n",
      "キサラギ (2007)                               3.666667\n",
      "チェブラーシカ (2010)                            3.150000\n",
      "貞子3D (2012)                               2.136364\n",
      "줄탁동시 (2012)                               4.000000\n",
      "Name: rating, Length: 58020, dtype: float64\n"
     ]
    }
   ],
   "source": [
    "# To find the average ratings for each movie we can use the mean() function and groupby to group the titles and ratings\n",
    "avg_rating = movies_df.groupby('title')['rating'].mean()\n",
    "print(avg_rating)"
   ]
  },
  {
   "attachments": {},
   "cell_type": "markdown",
   "metadata": {},
   "source": [
    "Top Highest Rated Movies"
   ]
  },
  {
   "cell_type": "code",
   "execution_count": 11,
   "metadata": {},
   "outputs": [
    {
     "name": "stdout",
     "output_type": "stream",
     "text": [
      "                                               rating       \n",
      "                                                 mean   size\n",
      "title                                                       \n",
      "Planet Earth II (2016)                       4.486518    853\n",
      "Planet Earth (2006)                          4.458092   1384\n",
      "Shawshank Redemption, The (1994)             4.424188  97999\n",
      "Band of Brothers (2001)                      4.399898    984\n",
      "Black Mirror: White Christmas (2014)         4.350559   1074\n",
      "Godfather, The (1972)                        4.332893  60904\n",
      "Usual Suspects, The (1995)                   4.291959  62180\n",
      "Godfather: Part II, The (1974)               4.263035  38875\n",
      "Schindler's List (1993)                      4.257502  71516\n",
      "Seven Samurai (Shichinin no samurai) (1954)  4.254116  14578\n"
     ]
    }
   ],
   "source": [
    "min_ratings = 600  # We got 515 as the average ratings so we thought about making the min ratings according to that\n",
    "movie_stats = movies_df.groupby('title').agg({'rating': [np.mean, np.size]}) #We use numpy library to get the mean and the size\n",
    "popular_movies = movie_stats['rating']['size'] >= min_ratings\n",
    "top_movies = movie_stats[popular_movies].sort_values([('rating', 'mean')], ascending=False)\n",
    "# select the top 10 movies by mean rating\n",
    "top_10_movies = top_movies.head(10)\n",
    "# print the top 10 highest-rated movies\n",
    "print(top_10_movies)"
   ]
  },
  {
   "attachments": {},
   "cell_type": "markdown",
   "metadata": {},
   "source": [
    "Most rated movies"
   ]
  },
  {
   "cell_type": "code",
   "execution_count": 12,
   "metadata": {},
   "outputs": [
    {
     "data": {
      "text/plain": [
       "title\n",
       "Shawshank Redemption, The (1994)             97999\n",
       "Forrest Gump (1994)                          97040\n",
       "Pulp Fiction (1994)                          92406\n",
       "Silence of the Lambs, The (1991)             87899\n",
       "Matrix, The (1999)                           84545\n",
       "Star Wars: Episode IV - A New Hope (1977)    81815\n",
       "Jurassic Park (1993)                         76451\n",
       "Schindler's List (1993)                      71516\n",
       "Braveheart (1995)                            68803\n",
       "Toy Story (1995)                             68469\n",
       "dtype: int64"
      ]
     },
     "execution_count": 12,
     "metadata": {},
     "output_type": "execute_result"
    }
   ],
   "source": [
    "#We already have some of the information from average rating per movie we can just use that and get top 10 by using nlargest()\n",
    "ratings_per_movie = movies_df.groupby('title').size()\n",
    "ratings_per_movie.nlargest(10)"
   ]
  },
  {
   "attachments": {},
   "cell_type": "markdown",
   "metadata": {},
   "source": [
    "Average ratings per genre"
   ]
  },
  {
   "cell_type": "code",
   "execution_count": 13,
   "metadata": {},
   "outputs": [],
   "source": [
    "#We need to make copy of the dataset so we do not modify the original copy\n",
    "movies_df_copy = movies_df.copy()\n",
    "movies_df_copy['genres'] = movies_df_copy['genres'].astype(str).str.split('|') #Splitting the genre column by '|' to get each different genre name\n",
    "newTest = movies_df_copy.explode('genres') #transforms the column with lists into a new DataFrame with one row for each item in the list."
   ]
  },
  {
   "cell_type": "code",
   "execution_count": 21,
   "metadata": {},
   "outputs": [
    {
     "name": "stdout",
     "output_type": "stream",
     "text": [
      "               rating          \n",
      "                 mean      size\n",
      "genres                         \n",
      "Action       3.462568   8215339\n",
      "Adventure    3.513285   6452613\n",
      "Animation    3.607310   1803059\n",
      "Children     3.423898   2381192\n",
      "Comedy       3.419787  10000084\n",
      "Crime        3.683526   4631887\n",
      "Documentary  3.710864    345668\n",
      "Drama        3.676372  12192494\n",
      "Fantasy      3.507209   3118622\n",
      "Film-Noir    3.928678    272746\n",
      "Horror       3.284381   2071107\n",
      "IMAX         3.618976   1102179\n",
      "Musical      3.542752   1109712\n",
      "Mystery      3.665570   2210587\n",
      "Romance      3.541862   5078897\n",
      "Sci-Fi       3.470484   4740139\n",
      "Thriller     3.518803   7490013\n",
      "War          3.796597   1426246\n",
      "Western      3.577673    542710\n"
     ]
    }
   ],
   "source": [
    "newtest = newTest.groupby('genres').agg({'rating': [np.mean, np.size]})\n",
    "newtest = newtest.drop('(no genres listed)')\n",
    "# movie_stats = movies_df.groupby('title').agg({'rating': [np.mean, np.size]}) #We use numpy library to get the mean and the size\n",
    "print(newtest)"
   ]
  },
  {
   "attachments": {},
   "cell_type": "markdown",
   "metadata": {},
   "source": [
    "Release Year Vs. Genres Graph"
   ]
  },
  {
   "cell_type": "code",
   "execution_count": null,
   "metadata": {},
   "outputs": [],
   "source": [
    "import matplotlib.pyplot as plt\n",
    "\n",
    "# movies_df contains the dataframe of the movies data\n",
    "movies_copy = movies_df.copy() #initializes a copy of merge into a variable\n",
    "\n",
    "movies_copy['release year'] = movies_copy['title'].str.extract('\\((\\d{4})\\)') #separating the release year into its own column\n",
    "\n",
    "movies_copy.dropna(subset=['release year'], inplace=True) #drops duplicate\n",
    "\n",
    "movies_copy['genres'] = movies_copy['genres'].astype(str).str.split('|')\n",
    "movies_copy = movies_copy.explode('genres')\n",
    "\n",
    "graph_genre = movies_copy.copy()\n",
    "genre_list = graph_genre['genres'].unique()\n",
    "\n",
    "avg_rating_genre_list = {}\n",
    "for genre in genre_list: # loops through the 19 different genre\n",
    "    specificGenre = graph_genre[graph_genre['genres'] == genre]\n",
    "    release_and_rating = specificGenre.drop(['genres'], axis = 1) \n",
    "    averageRating_perYear = release_and_rating.groupby('release year')['rating'].mean() #finds average\n",
    "    avg_rating_genre_list[genre] = averageRating_perYear\n",
    "\n",
    "fig, axs = plt.subplots(nrows=4, ncols=5, figsize=(20, 10), dpi=100)\n",
    "\n",
    "for ax, (genre, genre_data) in zip(axs.flat, avg_rating_genre_list.items()):\n",
    "    ax.plot(genre_data.index.astype(int), genre_data.values)\n",
    "    ax.set_xlabel('Release Year')\n",
    "    ax.set_ylabel('Average Rating')\n",
    "    ax.set_title(genre)\n",
    "\n",
    "plt.tight_layout()\n",
    "plt.show()"
   ]
  },
  {
   "cell_type": "code",
   "execution_count": null,
   "metadata": {},
   "outputs": [],
   "source": []
  }
 ],
 "metadata": {
  "kernelspec": {
   "display_name": "Python 3",
   "language": "python",
   "name": "python3"
  },
  "language_info": {
   "codemirror_mode": {
    "name": "ipython",
    "version": 3
   },
   "file_extension": ".py",
   "mimetype": "text/x-python",
   "name": "python",
   "nbconvert_exporter": "python",
   "pygments_lexer": "ipython3",
   "version": "3.10.9"
  },
  "orig_nbformat": 4
 },
 "nbformat": 4,
 "nbformat_minor": 2
}
